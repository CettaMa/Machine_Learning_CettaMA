{
  "cells": [
    {
      "cell_type": "markdown",
      "metadata": {},
      "source": [
        "Nama    : Cetta Maulana Andhika\n",
        "Kelas   : TK-45-04\n",
        "NIM     : 1103213119\n",
        "Judul   : Week 2, Logistic Regression, text.csv"
      ]
    },
    {
      "cell_type": "markdown",
      "metadata": {},
      "source": [
        "GPT Prompt : \"buatkan saya kode python untuk membuat model logistic regression dengan dataset text.csv\""
      ]
    },
    {
      "cell_type": "code",
      "execution_count": 1,
      "metadata": {
        "colab": {
          "base_uri": "https://localhost:8080/"
        },
        "id": "SUqwF18VS68d",
        "outputId": "56169e0f-ecb7-4509-82b2-d2b1c1f2df0f"
      },
      "outputs": [
        {
          "name": "stdout",
          "output_type": "stream",
          "text": [
            "   Unnamed: 0                                               text  label\n",
            "0           0      i just feel really helpless and heavy hearted      4\n",
            "1           1  ive enjoyed being able to slouch about relax a...      0\n",
            "2           2  i gave up my internship with the dmrg and am f...      4\n",
            "3           3                         i dont know i feel so lost      0\n",
            "4           4  i am a kindergarten teacher and i am thoroughl...      4\n"
          ]
        }
      ],
      "source": [
        "import pandas as pd\n",
        "from sklearn.feature_extraction.text import TfidfVectorizer\n",
        "from sklearn.model_selection import train_test_split\n",
        "from sklearn.linear_model import LogisticRegression\n",
        "from sklearn.metrics import accuracy_score, confusion_matrix\n",
        "import matplotlib.pyplot as plt\n",
        "\n",
        "# Membaca dataset\n",
        "data = pd.read_csv(\"Dataset\\\\text.csv\")\n",
        "\n",
        "# Menampilkan lima baris pertama dataset\n",
        "print(data.head())"
      ]
    },
    {
      "cell_type": "markdown",
      "metadata": {},
      "source": [
        "GPT Prompt : \"visualisasikan dengan matplotlib\"\n",
        "data berisi 2 features, yaitu \"text\" dan \"label\" dengan keterangan,<br>\n",
        "0 is sadness<br>\n",
        "1 is joy<br>\n",
        "2 is love<br>\n",
        "3 is anger<br>\n",
        "4 is fear<br>\n",
        "and 5 is suprise<br>"
      ]
    },
    {
      "cell_type": "code",
      "execution_count": 2,
      "metadata": {
        "colab": {
          "base_uri": "https://localhost:8080/",
          "height": 410
        },
        "id": "4v67WVP3Vy4G",
        "outputId": "4b2551e2-9372-4523-8851-29c7d897e830"
      },
      "outputs": [
        {
          "data": {
            "image/png": "[encoded data removed]",
            "text/plain": [
              "<Figure size 600x400 with 1 Axes>"
            ]
          },
          "metadata": {},
          "output_type": "display_data"
        }
      ],
      "source": [
        "plt.figure(figsize=(6, 4))\n",
        "data['label'].value_counts().plot(kind='bar', color=['blue', 'orange'])\n",
        "plt.title('Distribusi Kelas Target')\n",
        "plt.xlabel('Kelas')\n",
        "plt.ylabel('Jumlah')\n",
        "plt.xticks(rotation=0)\n",
        "plt.show()"
      ]
    },
    {
      "cell_type": "code",
      "execution_count": 3,
      "metadata": {
        "id": "Ai1QkXpdTBY9"
      },
      "outputs": [],
      "source": [
        "# Memisahkan data teks dan target\n",
        "X = data['text']\n",
        "y = data['label']\n",
        "\n",
        "# Membagi data menjadi data latih dan data uji\n",
        "X_train, X_test, y_train, y_test = train_test_split(X, y, test_size=0.2, random_state=42)\n",
        "\n",
        "# Membuat vektor fitur menggunakan TF-IDF\n",
        "vectorizer = TfidfVectorizer(max_features=10000, ngram_range=(1,2))\n",
        "X_train_vectorized = vectorizer.fit_transform(X_train)\n",
        "X_test_vectorized = vectorizer.transform(X_test)\n"
      ]
    },
    {
      "cell_type": "code",
      "execution_count": 4,
      "metadata": {
        "colab": {
          "base_uri": "https://localhost:8080/"
        },
        "id": "zL5te9BpTGRT",
        "outputId": "15f14338-718a-438a-a473-5d6cfca58566"
      },
      "outputs": [
        {
          "name": "stdout",
          "output_type": "stream",
          "text": [
            "1\n",
            "2\n",
            "3\n"
          ]
        },
        {
          "name": "stderr",
          "output_type": "stream",
          "text": [
            "c:\\Users\\cetta\\AppData\\Local\\Programs\\Python\\Python311\\Lib\\site-packages\\sklearn\\linear_model\\_logistic.py:460: ConvergenceWarning: lbfgs failed to converge (status=1):\n",
            "STOP: TOTAL NO. of ITERATIONS REACHED LIMIT.\n",
            "\n",
            "Increase the number of iterations (max_iter) or scale the data as shown in:\n",
            "    https://scikit-learn.org/stable/modules/preprocessing.html\n",
            "Please also refer to the documentation for alternative solver options:\n",
            "    https://scikit-learn.org/stable/modules/linear_model.html#logistic-regression\n",
            "  n_iter_i = _check_optimize_result(\n"
          ]
        }
      ],
      "source": [
        "# Membuat model regresi logistik\n",
        "log_reg = LogisticRegression(max_iter=100)\n",
        "\n",
        "# Melatih model regresi logistik\n",
        "log_reg.fit(X_train_vectorized, y_train)\n",
        "\n",
        "# Memprediksi kelas target pada data uji\n",
        "y_pred = log_reg.predict(X_test_vectorized)"
      ]
    },
    {
      "cell_type": "code",
      "execution_count": 5,
      "metadata": {
        "colab": {
          "base_uri": "https://localhost:8080/"
        },
        "id": "eeWwhuclQzoy",
        "outputId": "b0dfe9aa-0606-4aee-f048-f3b3a8e78fc2"
      },
      "outputs": [
        {
          "name": "stdout",
          "output_type": "stream",
          "text": [
            "Akurasi Model: 90.52%\n",
            "Confusion Matrix:\n",
            "[[23037   319    73   459   276    37]\n",
            " [  277 26499  1039   113    90   146]\n",
            " [   53  1477  5332    35    20    12]\n",
            " [  535   261    37 10361   237    10]\n",
            " [  494   201    33   377  8102   387]\n",
            " [   43   247    15     4   596  2128]]\n"
          ]
        }
      ],
      "source": [
        "# Menghitung akurasi model\n",
        "accuracy = accuracy_score(y_test, y_pred)\n",
        "print(\"Akurasi Model: {:.2f}%\".format(accuracy * 100))\n",
        "\n",
        "# Membuat confusion matrix\n",
        "conf_matrix = confusion_matrix(y_test, y_pred)\n",
        "print(\"Confusion Matrix:\")\n",
        "print(conf_matrix)"
      ]
    }
  ],
  "metadata": {
    "colab": {
      "provenance": []
    },
    "kernelspec": {
      "display_name": "Python 3",
      "name": "python3"
    },
    "language_info": {
      "codemirror_mode": {
        "name": "ipython",
        "version": 3
      },
      "file_extension": ".py",
      "mimetype": "text/x-python",
      "name": "python",
      "nbconvert_exporter": "python",
      "pygments_lexer": "ipython3",
      "version": "3.11.1"
    }
  },
  "nbformat": 4,
  "nbformat_minor": 0
}
